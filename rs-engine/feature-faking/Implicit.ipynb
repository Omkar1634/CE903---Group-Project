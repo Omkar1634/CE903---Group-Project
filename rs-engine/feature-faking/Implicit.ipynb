{
 "cells": [
  {
   "cell_type": "markdown",
   "id": "29c362de",
   "metadata": {},
   "source": [
    "<h3>Importing</h3>"
   ]
  },
  {
   "cell_type": "markdown",
   "id": "00b59c44",
   "metadata": {},
   "source": [
    "Most of the code was adapted using implict documentation https://benfred.github.io/implicit/ and their Github Repository https://github.com/benfred/implicit/tree/main/implicit/datasets"
   ]
  },
  {
   "cell_type": "code",
   "execution_count": 4,
   "id": "e595db6b",
   "metadata": {},
   "outputs": [],
   "source": [
    "import implicit\n",
    "from implicit.datasets.lastfm import get_lastfm\n",
    "from implicit.nearest_neighbours import bm25_weight\n",
    "from implicit.als import AlternatingLeastSquares\n",
    "\n",
    "import pandas\n",
    "import random\n",
    "import numpy as np\n",
    "from scipy.sparse import coo_matrix, csr_matrix\n",
    "\n",
    "import FeatureFaking as ff\n",
    "from FeatureFaking import FeatureFaker as faker"
   ]
  },
  {
   "cell_type": "markdown",
   "id": "803caf29",
   "metadata": {},
   "source": [
    "<h3>Data Processing</h3>\n",
    "<b>artist_user_plays</b> is a sparse matrix. </br>\n",
    "A Sparse matrix is a datastructure that contains coordinates of 2D list/array (list inside of lists) to non-zero values.</br>\n",
    "Example: if, 2D list = [[1 0 0 0 0 0][0 0 2 0 0 1][0 0 0 2 0 0]], then sparse matrix =   (0, 0)\t1, (1, 2)\t2, (1, 5)\t1, (2, 3) 2</br>\n",
    "Explanation taken from https://www.educative.io/answers/sparse-matrices-in-python.</br>\n",
    "</br>\n",
    "<b>artists and users</b></br>\n",
    "are arrays of string labels for each row and column in the sparse matrix."
   ]
  },
  {
   "cell_type": "code",
   "execution_count": 5,
   "id": "eb7239ee",
   "metadata": {},
   "outputs": [],
   "source": [
    "#artists, users, artist_user_plays = get_lastfm()"
   ]
  },
  {
   "cell_type": "code",
   "execution_count": 6,
   "id": "d5cbc0f9",
   "metadata": {},
   "outputs": [],
   "source": [
    "def load_data(path, product_column_name, quantity_column_name):\n",
    "    file = pandas.read_csv(path + \".csv\")\n",
    "    #print(file[product_column_name], file[bought_column_name])\n",
    "    fake_users = []\n",
    "    for i in range(10):\n",
    "        fake_users.append(\"User \" + str(i))\n",
    "    \n",
    "    users = []\n",
    "    items = []\n",
    "    sizes = []\n",
    "    for i in range(200):\n",
    "        \n",
    "        user = random.choice(fake_users)\n",
    "        item = random.choice(file[product_column_name])\n",
    "        size = random.choice(file[quantity_column_name])\n",
    "        \n",
    "        amount = ''\n",
    "        for c in size:\n",
    "            if(c != ',' and c != '.'):\n",
    "                amount += c\n",
    "        \n",
    "        users.append(user)\n",
    "        items.append(item)\n",
    "        sizes.append(random.randint(1, int(amount)))\n",
    "    \n",
    "    df = pandas.DataFrame({'user': users, 'item': items, 'plays': sizes})\n",
    "    df[\"user\"] = df[\"user\"].astype(\"category\")\n",
    "    df[\"item\"] = df[\"item\"].astype(\"category\")\n",
    "    \n",
    "    data = df\n",
    "    \n",
    "    plays = coo_matrix(\n",
    "        (\n",
    "            data[\"plays\"].astype(np.float32),\n",
    "            (data[\"user\"].cat.codes.copy(), data[\"item\"].cat.codes.copy()),\n",
    "        )\n",
    "    ).tocsr()\n",
    "    \n",
    "    return np.array(data[\"user\"][:]), np.array(data[\"item\"][:]), plays\n",
    "    "
   ]
  },
  {
   "cell_type": "code",
   "execution_count": 7,
   "id": "e00da25b",
   "metadata": {},
   "outputs": [],
   "source": [
    "class User:\n",
    "    \n",
    "    def __init__(self):\n",
    "        self.items = {}\n",
    "    \n",
    "    def purchase(self, item):\n",
    "        if item in self.items:\n",
    "            self.items[item] += 1\n",
    "        else:\n",
    "            self.items[item] = 0\n",
    "    \n",
    "    def get_lists(self):\n",
    "        items = []\n",
    "        sizes = []\n",
    "        for key in self.items:\n",
    "            items.append(key)\n",
    "            sizes.append(self.items[key])\n",
    "        return items, sizes\n",
    "            "
   ]
  },
  {
   "cell_type": "code",
   "execution_count": 8,
   "id": "233ae968",
   "metadata": {},
   "outputs": [],
   "source": [
    "def read_file(filename):\n",
    "    try:\n",
    "        dataframe = pandas.read_excel(filename + '.xlsx')\n",
    "        return dataframe\n",
    "    except:\n",
    "        dataframe = pandas.read_csv(filename + '.csv')\n",
    "        return dataframe\n",
    "\n",
    "def load_synth_data(path_training_data):\n",
    "    \n",
    "    df = read_file(path_training_data)\n",
    "    users = {}\n",
    "    for index, line in df.iterrows():\n",
    "        c_id = line['user_id']\n",
    "        product = line['product_id']\n",
    "        \n",
    "        if c_id in users:\n",
    "            users[c_id].purchase(product)\n",
    "        else:\n",
    "            user = User()\n",
    "            user.purchase(product)\n",
    "            users[c_id] = user\n",
    "    \n",
    "    users1 = []\n",
    "    items1 = []\n",
    "    sizes1 = []\n",
    "    \n",
    "    for c_id in users:\n",
    "        items, sizes = users[c_id].get_lists()\n",
    "        items1 += items\n",
    "        sizes1 += sizes\n",
    "        for i in range(len(sizes)):\n",
    "            users1.append(c_id)\n",
    "    \n",
    "    df = pandas.DataFrame({'user': users1, 'item': items1, 'plays': sizes1})\n",
    "    df[\"user\"] = df[\"user\"].astype(\"category\")\n",
    "    df[\"item\"] = df[\"item\"].astype(\"category\")\n",
    "    \n",
    "    data = df\n",
    "    \n",
    "    plays = coo_matrix(\n",
    "        (\n",
    "            data[\"plays\"].astype(np.float32),\n",
    "            (data[\"item\"].cat.codes.copy(), data[\"user\"].cat.codes.copy()),\n",
    "        )\n",
    "    ).tocsr()\n",
    "    \n",
    "    return np.array(data[\"item\"][:]), np.array(data[\"user\"][:]), plays\n",
    "\n",
    "def test(path_training_data, path_testing_data, num_recommendations):\n",
    "    \n",
    "    products, users, products_user_purchased = load_synth_data(path_training_data)\n",
    "    products_purchased = products_user_purchased.T.tocsr()\n",
    "    model = AlternatingLeastSquares(factors=64, regularization=0.05, alpha=2.0)\n",
    "    model.fit(products_purchased)\n",
    "    \n",
    "    df = read_file(path_testing_data)\n",
    "    testing_data = {}\n",
    "    \n",
    "    for index, line in df.iterrows():\n",
    "        user_id = line['user_id']\n",
    "        product = line['product_id']\n",
    "        \n",
    "        if user_id in testing_data:\n",
    "            testing_data[user_id].append(product)\n",
    "        else:\n",
    "            testing_data[user_id] = [product]\n",
    "    \n",
    "    correct = 0\n",
    "    for user_id in testing_data:\n",
    "        try:\n",
    "            ids, scores = model.recommend(user_id, products_purchased[user_id], N=num_recommendations, filter_already_liked_items=False)\n",
    "        except:\n",
    "            continue\n",
    "        for recommendation in products[ids]:\n",
    "            if recommendation in testing_data[user_id]:\n",
    "                correct += 1\n",
    "    \n",
    "    return correct\n",
    "\n",
    "def test_random(interaction_data, path_testing_data, num_recommendations):\n",
    "    \n",
    "    interaction = read_file(interaction_data)\n",
    "    df = read_file(path_testing_data)\n",
    "    products = []\n",
    "    testing_data = {}\n",
    "    for index, line in interaction.iterrows():\n",
    "        product = line['product_id']\n",
    "        products.append(product)\n",
    "        \n",
    "    for index, line in df.iterrows():\n",
    "        \n",
    "        user_id = line['user_id']\n",
    "        product = line['product_id']\n",
    "        \n",
    "        if user_id in testing_data:\n",
    "            testing_data[user_id].append(product)\n",
    "        else:\n",
    "            testing_data[user_id] = [product]\n",
    "    correct = 0\n",
    "    for user in testing_data:\n",
    "        recommendations = []\n",
    "        for i in range(num_recommendations):\n",
    "            rand_product = random.choice(products)\n",
    "            if rand_product in testing_data[user]:\n",
    "                correct += 1\n",
    "    \n",
    "    return correct\n",
    "\n",
    "def test_features(interaction_data, path_testing_data, num_recommendations):\n",
    "    \n",
    "    interaction = read_file(interaction_data)\n",
    "    test = read_file(path_testing_data)\n",
    "    \n",
    "    m = ff.FeatureFaker(interaction, test, 10)\n",
    "    m.fit(10)\n",
    "    print(\"Fit\")\n",
    "    correct = 0\n",
    "    \n",
    "    testing_data = {}\n",
    "    \n",
    "    for index, line in test.iterrows():\n",
    "        user_id = line['user_id']\n",
    "        product = line['product_id']\n",
    "        \n",
    "        if user_id in testing_data:\n",
    "            testing_data[user_id].append(product)\n",
    "        else:\n",
    "            testing_data[user_id] = [product]\n",
    "    \n",
    "    for user_id in testing_data:\n",
    "        \n",
    "        recommended = m.recommend(user_id, num_recommendations)\n",
    "        \n",
    "        for recommendation in recommended:\n",
    "            if recommendation in testing_data[user_id]:\n",
    "                correct += 1\n",
    "                print(correct)\n",
    "    return correct\n"
   ]
  },
  {
   "cell_type": "code",
   "execution_count": 9,
   "id": "9ce7ef5c",
   "metadata": {},
   "outputs": [],
   "source": [
    "#artists, users, artist_user_plays = load_synth_data(\"interaction\")"
   ]
  },
  {
   "cell_type": "code",
   "execution_count": 10,
   "id": "dd7e23f2",
   "metadata": {},
   "outputs": [],
   "source": [
    "#artists, users, artist_user_plays = load_data(\"topyoutube\", 'Artist', 'Total Views')"
   ]
  },
  {
   "cell_type": "code",
   "execution_count": 11,
   "id": "334416d0",
   "metadata": {},
   "outputs": [],
   "source": [
    "#user_plays = artist_user_plays.T.tocsr()"
   ]
  },
  {
   "cell_type": "code",
   "execution_count": 9,
   "id": "c515fe20",
   "metadata": {},
   "outputs": [],
   "source": [
    "#model = AlternatingLeastSquares(factors=64, regularization=0.05, alpha=2.0)\n",
    "#model.fit(user_plays)"
   ]
  },
  {
   "cell_type": "code",
   "execution_count": 10,
   "id": "f8d45811",
   "metadata": {},
   "outputs": [],
   "source": [
    "# Get recommendations for the a single user\n",
    "#userid = 2\n",
    "#ids, scores = model.recommend(userid, user_plays[userid], N=10, filter_already_liked_items=False)"
   ]
  },
  {
   "cell_type": "code",
   "execution_count": 11,
   "id": "7c50f23b",
   "metadata": {},
   "outputs": [],
   "source": [
    "# Use pandas to display the output in a table, pandas isn't a dependency of implicit otherwise\n",
    "import numpy as np\n",
    "import pandas as pd\n",
    "#print(userid)\n",
    "#pd.DataFrame({\"product_id\": artists[ids], \"score\": scores, \"already_liked\": np.in1d(ids, user_plays[userid].indices)})"
   ]
  },
  {
   "cell_type": "code",
   "execution_count": 12,
   "id": "5ed3f22a",
   "metadata": {},
   "outputs": [],
   "source": [
    "# get related items for the beatles (itemid = 25512)\n",
    "#ids, scores= model.similar_items(5)\n",
    "\n",
    "# display the results using pandas for nicer formatting\n",
    "#pd.DataFrame({\"artist\": artists[ids], \"score\": scores})"
   ]
  },
  {
   "cell_type": "code",
   "execution_count": 13,
   "id": "742d4802",
   "metadata": {},
   "outputs": [],
   "source": [
    "import csv\n",
    "def implicit_to_file(path_training_data, num_recommendations):\n",
    "    \n",
    "    path = \"rcommendations_implicit.csv\"\n",
    "    output_file = open(path, 'a',  newline='')\n",
    "    line = csv.writer(output_file)\n",
    "    \n",
    "    products, users, products_user_purchased = load_synth_data(path_training_data)\n",
    "    products_purchased = products_user_purchased.T.tocsr()\n",
    "    model = AlternatingLeastSquares(factors=64, regularization=0.05, alpha=2.0)\n",
    "    model.fit(products_purchased)\n",
    "    \n",
    "\n",
    "    user = set(users)\n",
    "    \n",
    "    for user_id in user:\n",
    "        ids, _ = model.recommend(user_id, products_purchased[user_id], N=num_recommendations, filter_already_liked_items=False)\n",
    "        row = [user_id]\n",
    "        for id in ids:\n",
    "            row.append(id)\n",
    "        line.writerow(row)\n",
    "    \n",
    "    output_file.close()\n",
    "    return output_file\n",
    "\n",
    "def feature_faker_to_file(path_training_data, num_recommendations):\n",
    "    interaction = read_file(path_training_data)\n",
    "    \n",
    "    m = ff.FeatureFaker(interaction, test, 10)\n",
    "    m.fit(1)\n",
    "    m.recommend_all(num_recommendations)\n",
    "\n",
    "def random_to_file(path_training_data, num_recommendations):\n",
    "    \n",
    "    path = \"recommendations_random.csv\"\n",
    "    output_file = open(path, 'a',  newline='')\n",
    "    line_writer = csv.writer(output_file)\n",
    "    \n",
    "    interaction = read_file(path_training_data)\n",
    "    products = []\n",
    "    users = []\n",
    "    for index, line in interaction.iterrows():\n",
    "        product = line['product_id']\n",
    "        user = line['user_id']\n",
    "        \n",
    "        if product not in products:\n",
    "            products.append(product)\n",
    "        users.append(user)\n",
    "    \n",
    "    users = set(users)\n",
    "    for user_id in users:\n",
    "        recommendations = []\n",
    "        for product in range(num_recommendations):\n",
    "            recommendations.append(random.choice(products))\n",
    "        row = [user_id]\n",
    "        for id in recommendations:\n",
    "            row.append(id)\n",
    "        line_writer.writerow(row)\n",
    "    \n",
    "    output_file.close()\n",
    "    return output_file\n",
    "    \n",
    "    "
   ]
  },
  {
   "cell_type": "code",
   "execution_count": 3,
   "id": "76ea3730",
   "metadata": {},
   "outputs": [],
   "source": [
    "t = \"interactions_test\"\n",
    "tr = \"interactions_train\""
   ]
  },
  {
   "cell_type": "code",
   "execution_count": 15,
   "id": "c2cc8106",
   "metadata": {},
   "outputs": [
    {
     "data": {
      "application/vnd.jupyter.widget-view+json": {
       "model_id": "2d0f7a3a35f642d1b6d5827a50fb01e5",
       "version_major": 2,
       "version_minor": 0
      },
      "text/plain": [
       "  0%|          | 0/15 [00:00<?, ?it/s]"
      ]
     },
     "metadata": {},
     "output_type": "display_data"
    },
    {
     "name": "stdout",
     "output_type": "stream",
     "text": [
      "Correct:  3085\n"
     ]
    }
   ],
   "source": [
    "print(\"Correct: \", test(tr, t, 10))"
   ]
  },
  {
   "cell_type": "code",
   "execution_count": 16,
   "id": "8f8d8a16",
   "metadata": {},
   "outputs": [
    {
     "name": "stdout",
     "output_type": "stream",
     "text": [
      "Correct:  3870\n"
     ]
    }
   ],
   "source": [
    "print(\"Correct: \", test_random(tr, t, 10))"
   ]
  },
  {
   "cell_type": "code",
   "execution_count": 17,
   "id": "ca968948",
   "metadata": {},
   "outputs": [],
   "source": [
    "#print(\"Correct: \", test_features(tr, t, 10))"
   ]
  },
  {
   "cell_type": "code",
   "execution_count": 14,
   "id": "940e6939",
   "metadata": {},
   "outputs": [
    {
     "data": {
      "text/plain": [
       "<_io.TextIOWrapper name='recommendations_random.csv' mode='a' encoding='cp1252'>"
      ]
     },
     "execution_count": 14,
     "metadata": {},
     "output_type": "execute_result"
    }
   ],
   "source": [
    "random_to_file(tr, 10)"
   ]
  },
  {
   "cell_type": "markdown",
   "id": "36f17b49",
   "metadata": {},
   "source": [
    "implicit_to_file(tr, 10)"
   ]
  },
  {
   "cell_type": "code",
   "execution_count": 16,
   "id": "c1efb7c7",
   "metadata": {},
   "outputs": [],
   "source": [
    "feature_faker_to_file(tr, 10)"
   ]
  },
  {
   "cell_type": "code",
   "execution_count": null,
   "id": "e0431688",
   "metadata": {},
   "outputs": [],
   "source": []
  }
 ],
 "metadata": {
  "kernelspec": {
   "display_name": "Python 3 (ipykernel)",
   "language": "python",
   "name": "python3"
  },
  "language_info": {
   "codemirror_mode": {
    "name": "ipython",
    "version": 3
   },
   "file_extension": ".py",
   "mimetype": "text/x-python",
   "name": "python",
   "nbconvert_exporter": "python",
   "pygments_lexer": "ipython3",
   "version": "3.10.7"
  },
  "vscode": {
   "interpreter": {
    "hash": "6cd7ecbf46b3498f952f614292bd9b98de37d868a382baadab1fa3f5188ed6c2"
   }
  }
 },
 "nbformat": 4,
 "nbformat_minor": 5
}
